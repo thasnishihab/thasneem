{
 "cells": [
  {
   "cell_type": "markdown",
   "id": "f528f008",
   "metadata": {},
   "source": [
    "<h2 align=\"right\">Case Study 4</h2> \n",
    "<h1 align=\"center\">Case Study on Testing of Hypothesis</h1><br/>\n",
    "<h2>Objectives :</h2><br>\n",
    "A company started to invest in digital marketing as a new way of their product\n",
    "promotions.For that they collected data and decided to carry out a study on it (dataset: Sales_add.csv). \n",
    "\n",
    "<ul>\n",
    "<li>The company wishes to clarify whether there is any increase in sales after\n",
    "stepping into digital marketing.\n",
    "</li>\n",
    "<li>The company needs to check whether there is any dependency between the\n",
    "features “Region” and “Manager”.</li>\n",
    "</ul>\n",
    "Help the company to carry out their study with the help of data provided.\n",
    "<br/>\n",
    "<br/>\n"
   ]
  },
  {
   "cell_type": "code",
   "execution_count": 75,
   "id": "1b0f97ff",
   "metadata": {},
   "outputs": [],
   "source": [
    "import numpy as np\n",
    "import pandas as pd\n",
    "import seaborn as sns\n",
    "import scipy.stats as stats\n",
    "from scipy.stats import ttest_ind"
   ]
  },
  {
   "cell_type": "code",
   "execution_count": 61,
   "id": "da669bdd",
   "metadata": {},
   "outputs": [
    {
     "data": {
      "text/html": [
       "<div>\n",
       "<style scoped>\n",
       "    .dataframe tbody tr th:only-of-type {\n",
       "        vertical-align: middle;\n",
       "    }\n",
       "\n",
       "    .dataframe tbody tr th {\n",
       "        vertical-align: top;\n",
       "    }\n",
       "\n",
       "    .dataframe thead th {\n",
       "        text-align: right;\n",
       "    }\n",
       "</style>\n",
       "<table border=\"1\" class=\"dataframe\">\n",
       "  <thead>\n",
       "    <tr style=\"text-align: right;\">\n",
       "      <th></th>\n",
       "      <th>Month</th>\n",
       "      <th>Region</th>\n",
       "      <th>Manager</th>\n",
       "      <th>Sales_before_digital_add(in $)</th>\n",
       "      <th>Sales_After_digital_add(in $)</th>\n",
       "    </tr>\n",
       "  </thead>\n",
       "  <tbody>\n",
       "    <tr>\n",
       "      <th>0</th>\n",
       "      <td>Month-1</td>\n",
       "      <td>Region - A</td>\n",
       "      <td>Manager - A</td>\n",
       "      <td>132921</td>\n",
       "      <td>270390</td>\n",
       "    </tr>\n",
       "    <tr>\n",
       "      <th>1</th>\n",
       "      <td>Month-2</td>\n",
       "      <td>Region - A</td>\n",
       "      <td>Manager - C</td>\n",
       "      <td>149559</td>\n",
       "      <td>223334</td>\n",
       "    </tr>\n",
       "    <tr>\n",
       "      <th>2</th>\n",
       "      <td>Month-3</td>\n",
       "      <td>Region - B</td>\n",
       "      <td>Manager - A</td>\n",
       "      <td>146278</td>\n",
       "      <td>244243</td>\n",
       "    </tr>\n",
       "    <tr>\n",
       "      <th>3</th>\n",
       "      <td>Month-4</td>\n",
       "      <td>Region - B</td>\n",
       "      <td>Manager - B</td>\n",
       "      <td>152167</td>\n",
       "      <td>231808</td>\n",
       "    </tr>\n",
       "    <tr>\n",
       "      <th>4</th>\n",
       "      <td>Month-5</td>\n",
       "      <td>Region - C</td>\n",
       "      <td>Manager - B</td>\n",
       "      <td>159525</td>\n",
       "      <td>258402</td>\n",
       "    </tr>\n",
       "  </tbody>\n",
       "</table>\n",
       "</div>"
      ],
      "text/plain": [
       "     Month      Region      Manager  Sales_before_digital_add(in $)  \\\n",
       "0  Month-1  Region - A  Manager - A                          132921   \n",
       "1  Month-2  Region - A  Manager - C                          149559   \n",
       "2  Month-3  Region - B  Manager - A                          146278   \n",
       "3  Month-4  Region - B  Manager - B                          152167   \n",
       "4  Month-5  Region - C  Manager - B                          159525   \n",
       "\n",
       "   Sales_After_digital_add(in $)  \n",
       "0                         270390  \n",
       "1                         223334  \n",
       "2                         244243  \n",
       "3                         231808  \n",
       "4                         258402  "
      ]
     },
     "execution_count": 61,
     "metadata": {},
     "output_type": "execute_result"
    }
   ],
   "source": [
    "#read dataset to pandas dataframe\n",
    "data = pd.read_csv('Sales_add.csv')\n",
    "data.head()"
   ]
  },
  {
   "cell_type": "code",
   "execution_count": 62,
   "id": "b8d78453",
   "metadata": {},
   "outputs": [
    {
     "data": {
      "text/plain": [
       "(22, 5)"
      ]
     },
     "execution_count": 62,
     "metadata": {},
     "output_type": "execute_result"
    }
   ],
   "source": [
    "data.shape"
   ]
  },
  {
   "cell_type": "code",
   "execution_count": 63,
   "id": "185cd67a",
   "metadata": {},
   "outputs": [
    {
     "data": {
      "text/html": [
       "<div>\n",
       "<style scoped>\n",
       "    .dataframe tbody tr th:only-of-type {\n",
       "        vertical-align: middle;\n",
       "    }\n",
       "\n",
       "    .dataframe tbody tr th {\n",
       "        vertical-align: top;\n",
       "    }\n",
       "\n",
       "    .dataframe thead th {\n",
       "        text-align: right;\n",
       "    }\n",
       "</style>\n",
       "<table border=\"1\" class=\"dataframe\">\n",
       "  <thead>\n",
       "    <tr style=\"text-align: right;\">\n",
       "      <th></th>\n",
       "      <th>Sales_before_digital_add(in $)</th>\n",
       "      <th>Sales_After_digital_add(in $)</th>\n",
       "    </tr>\n",
       "  </thead>\n",
       "  <tbody>\n",
       "    <tr>\n",
       "      <th>count</th>\n",
       "      <td>22.000000</td>\n",
       "      <td>22.000000</td>\n",
       "    </tr>\n",
       "    <tr>\n",
       "      <th>mean</th>\n",
       "      <td>149239.954545</td>\n",
       "      <td>231123.727273</td>\n",
       "    </tr>\n",
       "    <tr>\n",
       "      <th>std</th>\n",
       "      <td>14844.042921</td>\n",
       "      <td>25556.777061</td>\n",
       "    </tr>\n",
       "    <tr>\n",
       "      <th>min</th>\n",
       "      <td>130263.000000</td>\n",
       "      <td>187305.000000</td>\n",
       "    </tr>\n",
       "    <tr>\n",
       "      <th>25%</th>\n",
       "      <td>138087.750000</td>\n",
       "      <td>214960.750000</td>\n",
       "    </tr>\n",
       "    <tr>\n",
       "      <th>50%</th>\n",
       "      <td>147444.000000</td>\n",
       "      <td>229986.500000</td>\n",
       "    </tr>\n",
       "    <tr>\n",
       "      <th>75%</th>\n",
       "      <td>157627.500000</td>\n",
       "      <td>250909.000000</td>\n",
       "    </tr>\n",
       "    <tr>\n",
       "      <th>max</th>\n",
       "      <td>178939.000000</td>\n",
       "      <td>276279.000000</td>\n",
       "    </tr>\n",
       "  </tbody>\n",
       "</table>\n",
       "</div>"
      ],
      "text/plain": [
       "       Sales_before_digital_add(in $)  Sales_After_digital_add(in $)\n",
       "count                       22.000000                      22.000000\n",
       "mean                    149239.954545                  231123.727273\n",
       "std                      14844.042921                   25556.777061\n",
       "min                     130263.000000                  187305.000000\n",
       "25%                     138087.750000                  214960.750000\n",
       "50%                     147444.000000                  229986.500000\n",
       "75%                     157627.500000                  250909.000000\n",
       "max                     178939.000000                  276279.000000"
      ]
     },
     "execution_count": 63,
     "metadata": {},
     "output_type": "execute_result"
    }
   ],
   "source": [
    "data.describe()"
   ]
  },
  {
   "cell_type": "code",
   "execution_count": 64,
   "id": "6f812a33",
   "metadata": {},
   "outputs": [
    {
     "name": "stdout",
     "output_type": "stream",
     "text": [
      "<class 'pandas.core.frame.DataFrame'>\n",
      "RangeIndex: 22 entries, 0 to 21\n",
      "Data columns (total 5 columns):\n",
      " #   Column                          Non-Null Count  Dtype \n",
      "---  ------                          --------------  ----- \n",
      " 0   Month                           22 non-null     object\n",
      " 1   Region                          22 non-null     object\n",
      " 2   Manager                         22 non-null     object\n",
      " 3   Sales_before_digital_add(in $)  22 non-null     int64 \n",
      " 4   Sales_After_digital_add(in $)   22 non-null     int64 \n",
      "dtypes: int64(2), object(3)\n",
      "memory usage: 1008.0+ bytes\n"
     ]
    }
   ],
   "source": [
    "data.info()"
   ]
  },
  {
   "cell_type": "markdown",
   "id": "0e76d7eb",
   "metadata": {},
   "source": [
    "# - Clarify whether there is any increase in sales after stepping into digital marketing."
   ]
  },
  {
   "cell_type": "code",
   "execution_count": 65,
   "id": "54f57602",
   "metadata": {},
   "outputs": [
    {
     "data": {
      "text/html": [
       "<div>\n",
       "<style scoped>\n",
       "    .dataframe tbody tr th:only-of-type {\n",
       "        vertical-align: middle;\n",
       "    }\n",
       "\n",
       "    .dataframe tbody tr th {\n",
       "        vertical-align: top;\n",
       "    }\n",
       "\n",
       "    .dataframe thead th {\n",
       "        text-align: right;\n",
       "    }\n",
       "</style>\n",
       "<table border=\"1\" class=\"dataframe\">\n",
       "  <thead>\n",
       "    <tr style=\"text-align: right;\">\n",
       "      <th></th>\n",
       "      <th>Sales_before_digital_add(in $)</th>\n",
       "      <th>Sales_After_digital_add(in $)</th>\n",
       "    </tr>\n",
       "  </thead>\n",
       "  <tbody>\n",
       "    <tr>\n",
       "      <th>0</th>\n",
       "      <td>132921</td>\n",
       "      <td>270390</td>\n",
       "    </tr>\n",
       "    <tr>\n",
       "      <th>1</th>\n",
       "      <td>149559</td>\n",
       "      <td>223334</td>\n",
       "    </tr>\n",
       "    <tr>\n",
       "      <th>2</th>\n",
       "      <td>146278</td>\n",
       "      <td>244243</td>\n",
       "    </tr>\n",
       "    <tr>\n",
       "      <th>3</th>\n",
       "      <td>152167</td>\n",
       "      <td>231808</td>\n",
       "    </tr>\n",
       "    <tr>\n",
       "      <th>4</th>\n",
       "      <td>159525</td>\n",
       "      <td>258402</td>\n",
       "    </tr>\n",
       "    <tr>\n",
       "      <th>5</th>\n",
       "      <td>137163</td>\n",
       "      <td>256948</td>\n",
       "    </tr>\n",
       "    <tr>\n",
       "      <th>6</th>\n",
       "      <td>130625</td>\n",
       "      <td>222106</td>\n",
       "    </tr>\n",
       "    <tr>\n",
       "      <th>7</th>\n",
       "      <td>131140</td>\n",
       "      <td>230637</td>\n",
       "    </tr>\n",
       "    <tr>\n",
       "      <th>8</th>\n",
       "      <td>171259</td>\n",
       "      <td>226261</td>\n",
       "    </tr>\n",
       "    <tr>\n",
       "      <th>9</th>\n",
       "      <td>141956</td>\n",
       "      <td>193735</td>\n",
       "    </tr>\n",
       "    <tr>\n",
       "      <th>10</th>\n",
       "      <td>159339</td>\n",
       "      <td>203175</td>\n",
       "    </tr>\n",
       "    <tr>\n",
       "      <th>11</th>\n",
       "      <td>178939</td>\n",
       "      <td>276279</td>\n",
       "    </tr>\n",
       "    <tr>\n",
       "      <th>12</th>\n",
       "      <td>145062</td>\n",
       "      <td>205180</td>\n",
       "    </tr>\n",
       "    <tr>\n",
       "      <th>13</th>\n",
       "      <td>151514</td>\n",
       "      <td>253131</td>\n",
       "    </tr>\n",
       "    <tr>\n",
       "      <th>14</th>\n",
       "      <td>147463</td>\n",
       "      <td>229336</td>\n",
       "    </tr>\n",
       "    <tr>\n",
       "      <th>15</th>\n",
       "      <td>177195</td>\n",
       "      <td>187305</td>\n",
       "    </tr>\n",
       "    <tr>\n",
       "      <th>16</th>\n",
       "      <td>140862</td>\n",
       "      <td>234908</td>\n",
       "    </tr>\n",
       "    <tr>\n",
       "      <th>17</th>\n",
       "      <td>167996</td>\n",
       "      <td>191517</td>\n",
       "    </tr>\n",
       "    <tr>\n",
       "      <th>18</th>\n",
       "      <td>132135</td>\n",
       "      <td>227040</td>\n",
       "    </tr>\n",
       "    <tr>\n",
       "      <th>19</th>\n",
       "      <td>152493</td>\n",
       "      <td>212579</td>\n",
       "    </tr>\n",
       "    <tr>\n",
       "      <th>20</th>\n",
       "      <td>147425</td>\n",
       "      <td>263388</td>\n",
       "    </tr>\n",
       "    <tr>\n",
       "      <th>21</th>\n",
       "      <td>130263</td>\n",
       "      <td>243020</td>\n",
       "    </tr>\n",
       "  </tbody>\n",
       "</table>\n",
       "</div>"
      ],
      "text/plain": [
       "    Sales_before_digital_add(in $)  Sales_After_digital_add(in $)\n",
       "0                           132921                         270390\n",
       "1                           149559                         223334\n",
       "2                           146278                         244243\n",
       "3                           152167                         231808\n",
       "4                           159525                         258402\n",
       "5                           137163                         256948\n",
       "6                           130625                         222106\n",
       "7                           131140                         230637\n",
       "8                           171259                         226261\n",
       "9                           141956                         193735\n",
       "10                          159339                         203175\n",
       "11                          178939                         276279\n",
       "12                          145062                         205180\n",
       "13                          151514                         253131\n",
       "14                          147463                         229336\n",
       "15                          177195                         187305\n",
       "16                          140862                         234908\n",
       "17                          167996                         191517\n",
       "18                          132135                         227040\n",
       "19                          152493                         212579\n",
       "20                          147425                         263388\n",
       "21                          130263                         243020"
      ]
     },
     "execution_count": 65,
     "metadata": {},
     "output_type": "execute_result"
    }
   ],
   "source": [
    "data[['Sales_before_digital_add(in $)', 'Sales_After_digital_add(in $)']]"
   ]
  },
  {
   "cell_type": "code",
   "execution_count": 66,
   "id": "18e955c5",
   "metadata": {},
   "outputs": [
    {
     "data": {
      "text/html": [
       "<div>\n",
       "<style scoped>\n",
       "    .dataframe tbody tr th:only-of-type {\n",
       "        vertical-align: middle;\n",
       "    }\n",
       "\n",
       "    .dataframe tbody tr th {\n",
       "        vertical-align: top;\n",
       "    }\n",
       "\n",
       "    .dataframe thead th {\n",
       "        text-align: right;\n",
       "    }\n",
       "</style>\n",
       "<table border=\"1\" class=\"dataframe\">\n",
       "  <thead>\n",
       "    <tr style=\"text-align: right;\">\n",
       "      <th></th>\n",
       "      <th>Sales_before_digital_add(in $)</th>\n",
       "      <th>Sales_After_digital_add(in $)</th>\n",
       "    </tr>\n",
       "  </thead>\n",
       "  <tbody>\n",
       "    <tr>\n",
       "      <th>count</th>\n",
       "      <td>22.000000</td>\n",
       "      <td>22.000000</td>\n",
       "    </tr>\n",
       "    <tr>\n",
       "      <th>mean</th>\n",
       "      <td>149239.954545</td>\n",
       "      <td>231123.727273</td>\n",
       "    </tr>\n",
       "    <tr>\n",
       "      <th>std</th>\n",
       "      <td>14844.042921</td>\n",
       "      <td>25556.777061</td>\n",
       "    </tr>\n",
       "    <tr>\n",
       "      <th>min</th>\n",
       "      <td>130263.000000</td>\n",
       "      <td>187305.000000</td>\n",
       "    </tr>\n",
       "    <tr>\n",
       "      <th>25%</th>\n",
       "      <td>138087.750000</td>\n",
       "      <td>214960.750000</td>\n",
       "    </tr>\n",
       "    <tr>\n",
       "      <th>50%</th>\n",
       "      <td>147444.000000</td>\n",
       "      <td>229986.500000</td>\n",
       "    </tr>\n",
       "    <tr>\n",
       "      <th>75%</th>\n",
       "      <td>157627.500000</td>\n",
       "      <td>250909.000000</td>\n",
       "    </tr>\n",
       "    <tr>\n",
       "      <th>max</th>\n",
       "      <td>178939.000000</td>\n",
       "      <td>276279.000000</td>\n",
       "    </tr>\n",
       "  </tbody>\n",
       "</table>\n",
       "</div>"
      ],
      "text/plain": [
       "       Sales_before_digital_add(in $)  Sales_After_digital_add(in $)\n",
       "count                       22.000000                      22.000000\n",
       "mean                    149239.954545                  231123.727273\n",
       "std                      14844.042921                   25556.777061\n",
       "min                     130263.000000                  187305.000000\n",
       "25%                     138087.750000                  214960.750000\n",
       "50%                     147444.000000                  229986.500000\n",
       "75%                     157627.500000                  250909.000000\n",
       "max                     178939.000000                  276279.000000"
      ]
     },
     "execution_count": 66,
     "metadata": {},
     "output_type": "execute_result"
    }
   ],
   "source": [
    "data[['Sales_before_digital_add(in $)', 'Sales_After_digital_add(in $)']].describe()"
   ]
  },
  {
   "cell_type": "markdown",
   "id": "60120c32",
   "metadata": {},
   "source": [
    "Let's perform a hypothesis test using the following hypotheses:\n",
    "<ul>\n",
    "<li><b>H0 :</b> μafter = μbefore (the mean sales is the same before and after spending more on advertising)</li>\n",
    "    <li><b>HA :</b> μafter > μbefore (the mean sales increased after spending more on advertising)</li>\n",
    "</ul>"
   ]
  },
  {
   "cell_type": "code",
   "execution_count": 40,
   "id": "b96edf0b",
   "metadata": {},
   "outputs": [
    {
     "data": {
      "text/plain": [
       "Ttest_indResult(statistic=12.995084451110877, pvalue=5.509835809804302e-15)"
      ]
     },
     "execution_count": 40,
     "metadata": {},
     "output_type": "execute_result"
    }
   ],
   "source": [
    "ttest_ind(data['Sales_After_digital_add(in $)'], data['Sales_before_digital_add(in $)'], equal_var = False, alternative='greater')"
   ]
  },
  {
   "cell_type": "markdown",
   "id": "a89915b1",
   "metadata": {},
   "source": [
    "#### t-score: 12.995\n",
    "#### p value: 0.00\n",
    "#### Here the p-value of the test is less than the significance level (0.05), then the company can reject the null hypothesis and conclude that increased digital advertising leads to increased sales.\n",
    "<br/>\n",
    "<br/>\n",
    "<br/>"
   ]
  },
  {
   "cell_type": "markdown",
   "id": "8c65e4fc",
   "metadata": {},
   "source": [
    "# - Check whether there is any dependency between the features “Region” and “Manager”."
   ]
  },
  {
   "cell_type": "code",
   "execution_count": 67,
   "id": "3af028f2",
   "metadata": {},
   "outputs": [
    {
     "data": {
      "text/html": [
       "<div>\n",
       "<style scoped>\n",
       "    .dataframe tbody tr th:only-of-type {\n",
       "        vertical-align: middle;\n",
       "    }\n",
       "\n",
       "    .dataframe tbody tr th {\n",
       "        vertical-align: top;\n",
       "    }\n",
       "\n",
       "    .dataframe thead th {\n",
       "        text-align: right;\n",
       "    }\n",
       "</style>\n",
       "<table border=\"1\" class=\"dataframe\">\n",
       "  <thead>\n",
       "    <tr style=\"text-align: right;\">\n",
       "      <th>Manager</th>\n",
       "      <th>Manager - A</th>\n",
       "      <th>Manager - B</th>\n",
       "      <th>Manager - C</th>\n",
       "    </tr>\n",
       "    <tr>\n",
       "      <th>Region</th>\n",
       "      <th></th>\n",
       "      <th></th>\n",
       "      <th></th>\n",
       "    </tr>\n",
       "  </thead>\n",
       "  <tbody>\n",
       "    <tr>\n",
       "      <th>Region - A</th>\n",
       "      <td>4</td>\n",
       "      <td>3</td>\n",
       "      <td>3</td>\n",
       "    </tr>\n",
       "    <tr>\n",
       "      <th>Region - B</th>\n",
       "      <td>4</td>\n",
       "      <td>1</td>\n",
       "      <td>2</td>\n",
       "    </tr>\n",
       "    <tr>\n",
       "      <th>Region - C</th>\n",
       "      <td>1</td>\n",
       "      <td>3</td>\n",
       "      <td>1</td>\n",
       "    </tr>\n",
       "  </tbody>\n",
       "</table>\n",
       "</div>"
      ],
      "text/plain": [
       "Manager     Manager - A  Manager - B  Manager - C\n",
       "Region                                           \n",
       "Region - A            4            3            3\n",
       "Region - B            4            1            2\n",
       "Region - C            1            3            1"
      ]
     },
     "execution_count": 67,
     "metadata": {},
     "output_type": "execute_result"
    }
   ],
   "source": [
    "dataset_table=pd.crosstab(data['Region'], data['Manager'])\n",
    "dataset_table"
   ]
  },
  {
   "cell_type": "code",
   "execution_count": 76,
   "id": "5acecfa0",
   "metadata": {},
   "outputs": [
    {
     "data": {
      "text/plain": [
       "<AxesSubplot:xlabel='Manager', ylabel='Region'>"
      ]
     },
     "execution_count": 76,
     "metadata": {},
     "output_type": "execute_result"
    },
    {
     "data": {
      "image/png": "[encoded data removed]",
      "text/plain": [
       "<Figure size 432x288 with 2 Axes>"
      ]
     },
     "metadata": {
      "needs_background": "light"
     },
     "output_type": "display_data"
    }
   ],
   "source": [
    "sns.heatmap(dataset_table, annot=True, cmap='RdYlGn')"
   ]
  },
  {
   "cell_type": "markdown",
   "id": "cace48c4",
   "metadata": {},
   "source": [
    "We will be using two categorical features Region and Manager to find whether there is an association between them using the chi-square test. \n",
    "<ul>\n",
    "<li><b>H0 :</b> There is no significant association between Region and Manager features.</li>\n",
    "    <li><b>HA :</b> There is a significant association between Region and Manager features.</li>\n",
    "</ul>"
   ]
  },
  {
   "cell_type": "code",
   "execution_count": 74,
   "id": "7fc98c98",
   "metadata": {},
   "outputs": [
    {
     "name": "stdout",
     "output_type": "stream",
     "text": [
      "chi-square statistic:- 2.921995464852608\n",
      "Significance level:  0.05\n",
      "Degree of Freedom:  4\n",
      "p-value: 0.5709629929220089\n",
      "\n",
      "Accept Null Hypothesis\n"
     ]
    }
   ],
   "source": [
    "ddof= 4   #degree of freedom = (n-1)*(m-1)=(3-1)*(3-1)\n",
    "alpha =0.05\n",
    "from scipy.stats import chi2_contingency\n",
    "observed=dataset_table.values\n",
    "val2=chi2_contingency(pd.crosstab(data['Region'], data['Manager']))\n",
    "expected=val2[3]\n",
    "\n",
    "from scipy.stats import chi2\n",
    "chi_square=sum([(o-e)**2./e for o,e in zip(observed,expected)])\n",
    "chi_square_statistic=chi_square[0]+chi_square[1]\n",
    "p_value=1-chi2.cdf(x=chi_square_statistic,df=ddof)\n",
    "\n",
    "print(\"chi-square statistic:-\",chi_square_statistic)\n",
    "\n",
    "print('Significance level: ',alpha)\n",
    "\n",
    "print('Degree of Freedom: ',ddof)\n",
    "\n",
    "print('p-value:',p_value)\n",
    "\n",
    "if p_value<=alpha:\n",
    "\n",
    "    print(\"\\nReject Null Hypothesis\")\n",
    "\n",
    "else:\n",
    "\n",
    "    print(\"\\nAccept Null Hypothesis\")"
   ]
  },
  {
   "cell_type": "markdown",
   "id": "2c470532",
   "metadata": {},
   "source": [
    "#### Since the p-value is greater than 0.05, we accept the null hypothesis. We conclude that there is no significant association between the two features Region and Manager.\n",
    "<br/>\n",
    "<br/>\n",
    "<br/>"
   ]
  }
 ],
 "metadata": {
  "kernelspec": {
   "display_name": "Python 3",
   "language": "python",
   "name": "python3"
  },
  "language_info": {
   "codemirror_mode": {
    "name": "ipython",
    "version": 3
   },
   "file_extension": ".py",
   "mimetype": "text/x-python",
   "name": "python",
   "nbconvert_exporter": "python",
   "pygments_lexer": "ipython3",
   "version": "3.8.8"
  }
 },
 "nbformat": 4,
 "nbformat_minor": 5
}
